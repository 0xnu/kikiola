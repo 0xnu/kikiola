{
 "cells": [
  {
   "cell_type": "markdown",
   "id": "e1d8f8f8",
   "metadata": {},
   "source": [
    "# Kikiola Multilingual Embedding with Hugging Face 🤗"
   ]
  },
  {
   "cell_type": "markdown",
   "id": "7aa7775b",
   "metadata": {},
   "source": [
    "## Installing Required Libraries"
   ]
  },
  {
   "cell_type": "code",
   "execution_count": null,
   "id": "f7f9c6d6",
   "metadata": {},
   "outputs": [],
   "source": [
    "!pip install PyPDF2 requests sentence-transformers"
   ]
  },
  {
   "cell_type": "markdown",
   "id": "e3b0c8e6",
   "metadata": {},
   "source": [
    "## Starting the Server"
   ]
  },
  {
   "cell_type": "markdown",
   "id": "1234abcd",
   "metadata": {},
   "source": [
    "Before running the Kikiola Genome Embedding code, make sure to start the server by running the following command in your terminal. This command will start the server that will handle the storage of the generated embeddings.\n",
    "\n",
    "```sh\n",
    "go run cmd/main.go\n",
    "```"
   ]
  },
  {
   "cell_type": "markdown",
   "id": "e3b0c8e6",
   "metadata": {},
   "source": [
    "## Kikiola Multilingual Embedding Code"
   ]
  },
  {
   "cell_type": "code",
   "execution_count": null,
   "id": "c5f8f8f8",
   "metadata": {},
   "outputs": [],
   "source": [
    "import io\n",
    "import os\n",
    "import requests\n",
    "import PyPDF2\n",
    "import re\n",
    "from sentence_transformers import SentenceTransformer\n",
    "\n",
    "class KikiolaEmbedding:\n",
    "    def __init__(self):\n",
    "        self.model = SentenceTransformer('sentence-transformers/paraphrase-multilingual-MiniLM-L12-v2')\n",
    "        self.pdf_text = \"\"\n",
    "        self.embeddings = []\n",
    "\n",
    "    def load_pdf(self, pdf_path_or_url):\n",
    "        if pdf_path_or_url.startswith(\"http\"):\n",
    "            # Download PDF from URL\n",
    "            response = requests.get(pdf_path_or_url)\n",
    "            pdf_file = io.BytesIO(response.content)\n",
    "        else:\n",
    "            # Open local PDF file\n",
    "            pdf_file = open(pdf_path_or_url, 'rb')\n",
    "        \n",
    "        reader = PyPDF2.PdfReader(pdf_file)\n",
    "        self.pdf_text = \"\"\n",
    "        for page in reader.pages:\n",
    "            self.pdf_text += page.extract_text()\n",
    "        \n",
    "        pdf_file.close()\n",
    "\n",
    "    def clean_text(self):\n",
    "        self.pdf_text = re.sub(r'\\\\n', ' ', self.pdf_text)\n",
    "        self.pdf_text = re.sub(r'\\\\t', ' ', self.pdf_text)\n",
    "        self.pdf_text = re.sub(r'\\\\r', ' ', self.pdf_text)\n",
    "        self.pdf_text = re.sub(r'\\\\.', '.', self.pdf_text)\n",
    "        self.pdf_text = re.sub(r'\\\\,', ',', self.pdf_text)\n",
    "        self.pdf_text = re.sub(r\"\\\\'\", \"'\", self.pdf_text)\n",
    "        self.pdf_text = re.sub(r'\\\\', ' ', self.pdf_text)\n",
    "        self.pdf_text = ' '.join(self.pdf_text.split())\n",
    "\n",
    "    def generate_embeddings(self):\n",
    "        self.embeddings = self.model.encode(self.pdf_text)\n",
    "\n",
    "    def store_embeddings(self):\n",
    "        vector_data = {\n",
    "            \"ID\": \"83635f86-56b3-4bdd-a9bf-428dcebb8674\",\n",
    "            \"Embedding\": self.embeddings.tolist(),\n",
    "            \"Metadata\": {\n",
    "                \"name\": \"PDF Embeddings\",\n",
    "                \"category\": \"document\"\n",
    "            },\n",
    "            \"Text\": self.pdf_text\n",
    "        }\n",
    "\n",
    "        response = requests.post(\"http://localhost:3400/vectors\", json=vector_data)\n",
    "        print(f\"Embeddings stored. Status code: {response.status_code}\")\n",
    "\n",
    "pdf_path_or_url = \"les_contes_de_canterbury.pdf\"\n",
    "embeddings_generator = KikiolaEmbedding()\n",
    "embeddings_generator.load_pdf(pdf_path_or_url)\n",
    "embeddings_generator.clean_text()\n",
    "embeddings_generator.generate_embeddings()\n",
    "embeddings_generator.store_embeddings()\n",
    "\n",
    "print(\"Kikiola Embeddings Completed.\")"
   ]
  }
 ],
 "metadata": {
  "kernelspec": {
   "display_name": "Python 3 (ipykernel)",
   "language": "python",
   "name": "python3"
  },
  "language_info": {
   "codemirror_mode": {
    "name": "ipython",
    "version": 3
   },
   "file_extension": ".py",
   "mimetype": "text/x-python",
   "name": "python",
   "nbconvert_exporter": "python",
   "pygments_lexer": "ipython3",
   "version": "3.10.5"
  }
 },
 "nbformat": 4,
 "nbformat_minor": 5
}
